{
 "cells": [
  {
   "cell_type": "code",
   "execution_count": 1,
   "metadata": {
    "collapsed": true
   },
   "outputs": [],
   "source": [
    "import pandas as pd\n",
    "import cx_Oracle\n",
    "import numpy as np"
   ]
  },
  {
   "cell_type": "code",
   "execution_count": 2,
   "metadata": {
    "collapsed": true
   },
   "outputs": [],
   "source": [
    "#  def getData(user, password, database, targetTable, commandText):\n",
    "#         connection = cx_Oracle.connect(user, password, database)\n",
    "#         cursor = connection.cursor()\n",
    "#         cursor.execute(commandText.format(targetTable))\n",
    "#         x = cursor.description\n",
    "#         columns = [y[0] for y in x]\n",
    "#         cursor01 = cursor.fetchall()\n",
    "#         cursor.close()\n",
    "#         data = pd.DataFrame(cursor01, columns=columns)\n",
    "#         return data"
   ]
  },
  {
   "cell_type": "code",
   "execution_count": 3,
   "metadata": {
    "collapsed": true
   },
   "outputs": [],
   "source": [
    "# user = 'VDATA'\n",
    "# password = 'xdf123'\n",
    "# database = 'LBORA170'\n",
    "# targetTable = 'soure_01'\n",
    "# # commandText = '''select t.STD_MODEL_INFO,t.GGID,t.CHINESE_CS from CS_JY_2 t'''\n",
    "# commandText1 = '''select * from  a_model t'''\n",
    "# commandText2 = '''select * from  a_model_loss t'''\n",
    "# commandText3 = '''select * from  a_model_loss_refer t'''\n",
    "# commandText4 = '''select * from  cs_cb t'''\n",
    "# commandText5 = '''select * from  cs_jy t'''\n",
    "# commandText6 = '''select * from  cs_xs t'''\n",
    "# commandText7 = '''select * from  cs_zs t'''\n",
    "# a_model=getData(user, password, database, targetTable, commandText1)\n",
    "# a_model_loss =getData(user, password, database, targetTable, commandText2 )\n",
    "# a_model_loss_refer =getData(user, password, database, targetTable, commandText3)\n",
    "# cs_cb =getData(user, password, database, targetTable, commandText4)\n",
    "# cs_jy =getData(user, password, database, targetTable, commandText5)\n",
    "# cs_xs =getData(user, password, database, targetTable, commandText6)\n",
    "# cs_zs =getData(user, password, database, targetTable, commandText7)"
   ]
  },
  {
   "cell_type": "code",
   "execution_count": 4,
   "metadata": {},
   "outputs": [],
   "source": [
    "# a_model.to_csv('data/a_model.csv',encoding='utf-8',index=False)\n",
    "# a_model_loss.to_csv('data/a_model_loss.csv',encoding='utf-8',index=False)\n",
    "# a_model_loss_refer.to_csv('data/a_model_loss_refer.csv',encoding='utf-8',index=False)\n",
    "# cs_cb.to_csv('data/cs_cb.csv',encoding='utf-8',index=False)\n",
    "# cs_jy.to_csv('data/cs_jy.csv',encoding='utf-8',index=False)\n",
    "# cs_xs.to_csv('data/cs_xs.csv',encoding='utf-8',index=False)\n",
    "# cs_zs.to_csv('data/cs_zs.csv',encoding='utf-8',index=False)"
   ]
  },
  {
   "cell_type": "code",
   "execution_count": 2,
   "metadata": {
    "collapsed": true
   },
   "outputs": [],
   "source": [
    "cols=[]"
   ]
  },
  {
   "cell_type": "code",
   "execution_count": 3,
   "metadata": {
    "collapsed": true
   },
   "outputs": [],
   "source": [
    "path1='data/a_model.csv'\n",
    "path2='data/a_model_loss.csv'\n",
    "path3='data/a_model_loss_refer.csv'\n",
    "path4='data/cs_cb.csv'\n",
    "path5='data/cs_jy.csv'\n",
    "path6='data/cs_xs.csv'\n",
    "path7='data/cs_zs.csv'"
   ]
  },
  {
   "cell_type": "code",
   "execution_count": 4,
   "metadata": {},
   "outputs": [
    {
     "name": "stderr",
     "output_type": "stream",
     "text": [
      "D:\\Program\\Anaconda3\\lib\\site-packages\\IPython\\core\\interactiveshell.py:2698: DtypeWarning: Columns (40) have mixed types. Specify dtype option on import or set low_memory=False.\n",
      "  interactivity=interactivity, compiler=compiler, result=result)\n"
     ]
    }
   ],
   "source": [
    "a_model=pd.read_csv(path1)"
   ]
  },
  {
   "cell_type": "code",
   "execution_count": 5,
   "metadata": {
    "collapsed": true
   },
   "outputs": [],
   "source": [
    "a_model.dropna(how='all',axis=1,inplace=True)"
   ]
  },
  {
   "cell_type": "code",
   "execution_count": 6,
   "metadata": {},
   "outputs": [
    {
     "name": "stdout",
     "output_type": "stream",
     "text": [
      "<class 'pandas.core.frame.DataFrame'>\n",
      "RangeIndex: 214587 entries, 0 to 214586\n",
      "Data columns (total 34 columns):\n",
      "MODEL_ID                  214587 non-null int64\n",
      "MODEL_CATE_ID             64007 non-null float64\n",
      "MODEL_STANDARD_NAME       214587 non-null object\n",
      "MODEL_TRIVIAL_NAME        46663 non-null object\n",
      "MODEL_CLASS               214501 non-null float64\n",
      "MODEL_SUB_CLASS           214501 non-null float64\n",
      "MODEL_TYPE                213904 non-null float64\n",
      "MODEL_COUNTRY             213904 non-null float64\n",
      "MODEL_BRAND               214587 non-null object\n",
      "MODEL_CATE_NAME           213903 non-null object\n",
      "MODEL_FACTORY             214586 non-null object\n",
      "MODEL_YEAR                44788 non-null float64\n",
      "MODEL_VOUCH_SEAT          214313 non-null float64\n",
      "MODEL_VOUCH_TONNAGE       185750 non-null float64\n",
      "MODEL_VOLUME              117999 non-null float64\n",
      "MODEL_PRICE               213904 non-null float64\n",
      "MODEL_PRICE_TXA           213879 non-null float64\n",
      "MODEL_PRICE_ANA           61693 non-null float64\n",
      "MODEL_REMARK              150485 non-null object\n",
      "MODEL_IS_LOSS             64007 non-null float64\n",
      "MODEL_IS_PIC              64007 non-null float64\n",
      "MODEL_PART_COUNT          64007 non-null float64\n",
      "MODEL_IS_ENABLE           64007 non-null float64\n",
      "MODEL_IS_DELETE           64007 non-null float64\n",
      "MODEL_CREATE_DATE         214587 non-null object\n",
      "MODEL_UPDATE_DATE         142821 non-null object\n",
      "VERSION                   214587 non-null int64\n",
      "MODEL_SPECIAL_TYPE        131370 non-null float64\n",
      "MODEL_SUB_SPECIAL_TYPE    131370 non-null float64\n",
      "MODEL_VALUATION_TYPE      207090 non-null object\n",
      "GUID                      204623 non-null object\n",
      "MODEL_TOTAL_TONNAGE       37528 non-null float64\n",
      "MODEL_CURB_TONNAGE        141936 non-null float64\n",
      "STD_MODEL_INFO            214587 non-null object\n",
      "dtypes: float64(21), int64(2), object(11)\n",
      "memory usage: 55.7+ MB\n"
     ]
    }
   ],
   "source": [
    "a_model.info()"
   ]
  },
  {
   "cell_type": "code",
   "execution_count": 7,
   "metadata": {},
   "outputs": [
    {
     "data": {
      "text/plain": [
       "['MODEL_ID',\n",
       " 'MODEL_CATE_ID',\n",
       " 'MODEL_STANDARD_NAME',\n",
       " 'MODEL_TRIVIAL_NAME',\n",
       " 'MODEL_CLASS',\n",
       " 'MODEL_SUB_CLASS',\n",
       " 'MODEL_TYPE',\n",
       " 'MODEL_COUNTRY',\n",
       " 'MODEL_BRAND',\n",
       " 'MODEL_CATE_NAME',\n",
       " 'MODEL_FACTORY',\n",
       " 'MODEL_YEAR',\n",
       " 'MODEL_VOUCH_SEAT',\n",
       " 'MODEL_VOUCH_TONNAGE',\n",
       " 'MODEL_VOLUME',\n",
       " 'MODEL_PRICE',\n",
       " 'MODEL_PRICE_TXA',\n",
       " 'MODEL_PRICE_ANA',\n",
       " 'MODEL_REMARK',\n",
       " 'MODEL_IS_LOSS',\n",
       " 'MODEL_IS_PIC',\n",
       " 'MODEL_PART_COUNT',\n",
       " 'MODEL_IS_ENABLE',\n",
       " 'MODEL_IS_DELETE',\n",
       " 'MODEL_CREATE_DATE',\n",
       " 'MODEL_UPDATE_DATE',\n",
       " 'VERSION',\n",
       " 'MODEL_SPECIAL_TYPE',\n",
       " 'MODEL_SUB_SPECIAL_TYPE',\n",
       " 'MODEL_VALUATION_TYPE',\n",
       " 'GUID',\n",
       " 'MODEL_TOTAL_TONNAGE',\n",
       " 'MODEL_CURB_TONNAGE',\n",
       " 'STD_MODEL_INFO']"
      ]
     },
     "execution_count": 7,
     "metadata": {},
     "output_type": "execute_result"
    }
   ],
   "source": [
    "col1=a_model.columns\n",
    "cols.extend(col1)\n",
    "cols"
   ]
  },
  {
   "cell_type": "code",
   "execution_count": 8,
   "metadata": {
    "collapsed": true
   },
   "outputs": [],
   "source": [
    "a_model_loss=pd.read_csv(path2)"
   ]
  },
  {
   "cell_type": "code",
   "execution_count": 9,
   "metadata": {
    "collapsed": true
   },
   "outputs": [],
   "source": [
    "a_model_loss.dropna(how='all',axis=1,inplace=True)"
   ]
  },
  {
   "cell_type": "code",
   "execution_count": 10,
   "metadata": {},
   "outputs": [
    {
     "name": "stdout",
     "output_type": "stream",
     "text": [
      "<class 'pandas.core.frame.DataFrame'>\n",
      "RangeIndex: 47572 entries, 0 to 47571\n",
      "Data columns (total 23 columns):\n",
      "MODEL_ID               47572 non-null int64\n",
      "MODEL_CATE_ID          47572 non-null int64\n",
      "MODEL_STANDARD_NAME    47572 non-null object\n",
      "MODEL_TRIVIAL_NAME     32203 non-null object\n",
      "MODEL_PINYIN_CODE      47572 non-null object\n",
      "MODEL_TYPE             47572 non-null int64\n",
      "MODEL_CLASS            47572 non-null int64\n",
      "MODEL_COUNTRY          47572 non-null int64\n",
      "MODEL_IS_INSURER       47572 non-null int64\n",
      "MODEL_IS_LOSS          47572 non-null int64\n",
      "MODEL_IS_PIC           47572 non-null int64\n",
      "MODEL_REMARK           43511 non-null object\n",
      "MODEL_PART_COUNT       47572 non-null int64\n",
      "MODEL_STRUCT_TYPE      26173 non-null float64\n",
      "MODEL_IS_ENABLE        47572 non-null int64\n",
      "MODEL_IS_DELETE        47572 non-null int64\n",
      "MODEL_CREATE_DATE      47572 non-null object\n",
      "MODEL_UPDATE_DATE      47572 non-null object\n",
      "VERSION                47572 non-null int64\n",
      "MODEL_FACTORY          47560 non-null object\n",
      "TRAN_EDITION           1 non-null float64\n",
      "PART_UPDATE_TIME       43444 non-null object\n",
      "STD_MODEL_INFO         47572 non-null object\n",
      "dtypes: float64(2), int64(12), object(9)\n",
      "memory usage: 8.3+ MB\n"
     ]
    }
   ],
   "source": [
    "a_model_loss.info()"
   ]
  },
  {
   "cell_type": "code",
   "execution_count": 12,
   "metadata": {},
   "outputs": [
    {
     "name": "stdout",
     "output_type": "stream",
     "text": [
      "39\n"
     ]
    },
    {
     "data": {
      "text/plain": [
       "['MODEL_UPDATE_DATE',\n",
       " 'MODEL_TYPE',\n",
       " 'MODEL_PINYIN_CODE',\n",
       " 'VERSION',\n",
       " 'PART_UPDATE_TIME',\n",
       " 'MODEL_STANDARD_NAME',\n",
       " 'MODEL_CATE_ID',\n",
       " 'MODEL_VOUCH_TONNAGE',\n",
       " 'MODEL_IS_PIC',\n",
       " 'MODEL_BRAND',\n",
       " 'MODEL_IS_LOSS',\n",
       " 'MODEL_VOUCH_SEAT',\n",
       " 'MODEL_REMARK',\n",
       " 'MODEL_IS_DELETE',\n",
       " 'MODEL_YEAR',\n",
       " 'MODEL_CATE_NAME',\n",
       " 'TRAN_EDITION',\n",
       " 'MODEL_SUB_CLASS',\n",
       " 'MODEL_PRICE',\n",
       " 'MODEL_IS_ENABLE',\n",
       " 'MODEL_VALUATION_TYPE',\n",
       " 'MODEL_CREATE_DATE',\n",
       " 'MODEL_ID',\n",
       " 'MODEL_VOLUME',\n",
       " 'MODEL_CURB_TONNAGE',\n",
       " 'MODEL_SPECIAL_TYPE',\n",
       " 'MODEL_IS_INSURER',\n",
       " 'MODEL_SUB_SPECIAL_TYPE',\n",
       " 'STD_MODEL_INFO',\n",
       " 'MODEL_TOTAL_TONNAGE',\n",
       " 'MODEL_PRICE_ANA',\n",
       " 'MODEL_FACTORY',\n",
       " 'MODEL_STRUCT_TYPE',\n",
       " 'MODEL_TRIVIAL_NAME',\n",
       " 'MODEL_CLASS',\n",
       " 'MODEL_COUNTRY',\n",
       " 'MODEL_PRICE_TXA',\n",
       " 'MODEL_PART_COUNT',\n",
       " 'GUID']"
      ]
     },
     "execution_count": 12,
     "metadata": {},
     "output_type": "execute_result"
    }
   ],
   "source": [
    "col2=a_model_loss.columns\n",
    "cols.extend(col2)\n",
    "cols=list(set(cols))\n",
    "print(len(cols))\n",
    "cols"
   ]
  },
  {
   "cell_type": "code",
   "execution_count": 13,
   "metadata": {
    "collapsed": true
   },
   "outputs": [],
   "source": [
    "a_model_loss_refer=pd.read_csv(path3)"
   ]
  },
  {
   "cell_type": "code",
   "execution_count": 16,
   "metadata": {},
   "outputs": [
    {
     "name": "stderr",
     "output_type": "stream",
     "text": [
      "D:\\Program\\Anaconda3\\lib\\site-packages\\IPython\\core\\interactiveshell.py:2698: DtypeWarning: Columns (0,4,6,8,9,10,11,12,13,14,16,17) have mixed types. Specify dtype option on import or set low_memory=False.\n",
      "  interactivity=interactivity, compiler=compiler, result=result)\n"
     ]
    }
   ],
   "source": [
    "cs_cb=pd.read_csv(path4)"
   ]
  },
  {
   "cell_type": "code",
   "execution_count": 17,
   "metadata": {
    "collapsed": true
   },
   "outputs": [],
   "source": [
    "cs_cb.dropna(how='all',axis=1,inplace=True)"
   ]
  },
  {
   "cell_type": "code",
   "execution_count": 18,
   "metadata": {},
   "outputs": [
    {
     "name": "stdout",
     "output_type": "stream",
     "text": [
      "<class 'pandas.core.frame.DataFrame'>\n",
      "RangeIndex: 207337 entries, 0 to 207336\n",
      "Data columns (total 22 columns):\n",
      "CB_ID             207337 non-null object\n",
      "STD_MODEL_INFO    207337 non-null object\n",
      "GGID              174211 non-null object\n",
      "MANUFACTURER      201852 non-null object\n",
      "IMPORTS           210 non-null object\n",
      "BRAND_P           202015 non-null object\n",
      "KEYNUMBER         9962 non-null object\n",
      "CHINESE_CS        38901 non-null object\n",
      "YEAR              37800 non-null object\n",
      "DISPLACEMENT      31982 non-null object\n",
      "HORSE_POWER       322 non-null object\n",
      "ENGINE_ARRANGE    611 non-null object\n",
      "ENERGY_TYPE       1442 non-null object\n",
      "DOORS             71 non-null object\n",
      "CAR_SIZE          839 non-null object\n",
      "CAR_TYPE          207290 non-null object\n",
      "SEATS             32465 non-null object\n",
      "GB1               11640 non-null object\n",
      "GEARBOX           41522 non-null object\n",
      "OTR_INFO          78323 non-null object\n",
      "CP_SCO_DF         207337 non-null int64\n",
      "TYPE              33726 non-null object\n",
      "dtypes: int64(1), object(21)\n",
      "memory usage: 34.8+ MB\n"
     ]
    }
   ],
   "source": [
    "cs_cb.info()"
   ]
  },
  {
   "cell_type": "code",
   "execution_count": 19,
   "metadata": {},
   "outputs": [
    {
     "name": "stdout",
     "output_type": "stream",
     "text": [
      "60\n"
     ]
    },
    {
     "data": {
      "text/plain": [
       "['MODEL_UPDATE_DATE',\n",
       " 'GB1',\n",
       " 'MODEL_TYPE',\n",
       " 'MODEL_PINYIN_CODE',\n",
       " 'GGID',\n",
       " 'ENERGY_TYPE',\n",
       " 'VERSION',\n",
       " 'CAR_SIZE',\n",
       " 'SEATS',\n",
       " 'PART_UPDATE_TIME',\n",
       " 'MODEL_STANDARD_NAME',\n",
       " 'MODEL_CATE_ID',\n",
       " 'MODEL_VOUCH_TONNAGE',\n",
       " 'DISPLACEMENT',\n",
       " 'MODEL_IS_PIC',\n",
       " 'GUID',\n",
       " 'MODEL_BRAND',\n",
       " 'MODEL_IS_LOSS',\n",
       " 'MODEL_VOUCH_SEAT',\n",
       " 'MODEL_REMARK',\n",
       " 'MODEL_IS_DELETE',\n",
       " 'BRAND_P',\n",
       " 'MODEL_YEAR',\n",
       " 'CHINESE_CS',\n",
       " 'MODEL_CATE_NAME',\n",
       " 'CP_SCO_DF',\n",
       " 'TRAN_EDITION',\n",
       " 'MODEL_SUB_CLASS',\n",
       " 'MODEL_PRICE',\n",
       " 'IMPORTS',\n",
       " 'MODEL_VALUATION_TYPE',\n",
       " 'MODEL_CREATE_DATE',\n",
       " 'MODEL_ID',\n",
       " 'MODEL_VOLUME',\n",
       " 'MODEL_CURB_TONNAGE',\n",
       " 'HORSE_POWER',\n",
       " 'MODEL_SPECIAL_TYPE',\n",
       " 'ENGINE_ARRANGE',\n",
       " 'TYPE',\n",
       " 'MODEL_IS_INSURER',\n",
       " 'MODEL_SUB_SPECIAL_TYPE',\n",
       " 'STD_MODEL_INFO',\n",
       " 'MODEL_TOTAL_TONNAGE',\n",
       " 'OTR_INFO',\n",
       " 'CAR_TYPE',\n",
       " 'GEARBOX',\n",
       " 'DOORS',\n",
       " 'MODEL_PRICE_ANA',\n",
       " 'MODEL_FACTORY',\n",
       " 'KEYNUMBER',\n",
       " 'CB_ID',\n",
       " 'MODEL_STRUCT_TYPE',\n",
       " 'MODEL_TRIVIAL_NAME',\n",
       " 'MODEL_CLASS',\n",
       " 'MODEL_COUNTRY',\n",
       " 'MODEL_PRICE_TXA',\n",
       " 'MANUFACTURER',\n",
       " 'YEAR',\n",
       " 'MODEL_PART_COUNT',\n",
       " 'MODEL_IS_ENABLE']"
      ]
     },
     "execution_count": 19,
     "metadata": {},
     "output_type": "execute_result"
    }
   ],
   "source": [
    "col4=cs_cb.columns\n",
    "cols.extend(col4)\n",
    "cols=list(set(cols))\n",
    "print(len(cols))\n",
    "cols"
   ]
  },
  {
   "cell_type": "code",
   "execution_count": 20,
   "metadata": {},
   "outputs": [
    {
     "name": "stderr",
     "output_type": "stream",
     "text": [
      "D:\\Program\\Anaconda3\\lib\\site-packages\\IPython\\core\\interactiveshell.py:2698: DtypeWarning: Columns (3,8,9,10,11,12,13,14,16,17) have mixed types. Specify dtype option on import or set low_memory=False.\n",
      "  interactivity=interactivity, compiler=compiler, result=result)\n"
     ]
    }
   ],
   "source": [
    "cs_jy=pd.read_csv(path5)"
   ]
  },
  {
   "cell_type": "code",
   "execution_count": 21,
   "metadata": {
    "collapsed": true
   },
   "outputs": [],
   "source": [
    "cs_jy.dropna(how='all',axis=1,inplace=True)"
   ]
  },
  {
   "cell_type": "code",
   "execution_count": 22,
   "metadata": {},
   "outputs": [
    {
     "name": "stdout",
     "output_type": "stream",
     "text": [
      "<class 'pandas.core.frame.DataFrame'>\n",
      "RangeIndex: 248576 entries, 0 to 248575\n",
      "Data columns (total 21 columns):\n",
      "JY_ID             248576 non-null object\n",
      "STD_MODEL_INFO    248576 non-null object\n",
      "GGID              210510 non-null object\n",
      "MANUFACTURER      19135 non-null object\n",
      "IMPORTS           224649 non-null object\n",
      "BRAND_P           241279 non-null object\n",
      "KEYNUMBER         6452 non-null object\n",
      "CHINESE_CS        246876 non-null object\n",
      "YEAR              29727 non-null object\n",
      "DISPLACEMENT      3346 non-null object\n",
      "HORSE_POWER       491 non-null object\n",
      "ENGINE_ARRANGE    610 non-null object\n",
      "ENERGY_TYPE       1036 non-null object\n",
      "DOORS             65 non-null object\n",
      "CAR_SIZE          810 non-null object\n",
      "CAR_TYPE          248526 non-null object\n",
      "SEATS             172 non-null object\n",
      "GB1               54 non-null object\n",
      "GEARBOX           37560 non-null object\n",
      "OTR_INFO          65519 non-null object\n",
      "CP_SCO_DF         248576 non-null int64\n",
      "dtypes: int64(1), object(20)\n",
      "memory usage: 39.8+ MB\n"
     ]
    }
   ],
   "source": [
    "cs_jy.info()"
   ]
  },
  {
   "cell_type": "code",
   "execution_count": 33,
   "metadata": {},
   "outputs": [
    {
     "data": {
      "text/html": [
       "<div>\n",
       "<style>\n",
       "    .dataframe thead tr:only-child th {\n",
       "        text-align: right;\n",
       "    }\n",
       "\n",
       "    .dataframe thead th {\n",
       "        text-align: left;\n",
       "    }\n",
       "\n",
       "    .dataframe tbody tr th {\n",
       "        vertical-align: top;\n",
       "    }\n",
       "</style>\n",
       "<table border=\"1\" class=\"dataframe\">\n",
       "  <thead>\n",
       "    <tr style=\"text-align: right;\">\n",
       "      <th></th>\n",
       "      <th>JY_ID</th>\n",
       "      <th>STD_MODEL_INFO</th>\n",
       "      <th>GGID</th>\n",
       "      <th>MANUFACTURER</th>\n",
       "      <th>IMPORTS</th>\n",
       "      <th>BRAND_P</th>\n",
       "      <th>KEYNUMBER</th>\n",
       "      <th>CHINESE_CS</th>\n",
       "      <th>YEAR</th>\n",
       "      <th>DISPLACEMENT</th>\n",
       "      <th>...</th>\n",
       "      <th>ENGINE_ARRANGE</th>\n",
       "      <th>ENERGY_TYPE</th>\n",
       "      <th>DOORS</th>\n",
       "      <th>CAR_SIZE</th>\n",
       "      <th>CAR_TYPE</th>\n",
       "      <th>SEATS</th>\n",
       "      <th>GB1</th>\n",
       "      <th>GEARBOX</th>\n",
       "      <th>OTR_INFO</th>\n",
       "      <th>CP_SCO_DF</th>\n",
       "    </tr>\n",
       "  </thead>\n",
       "  <tbody>\n",
       "    <tr>\n",
       "      <th>0</th>\n",
       "      <td>JBAAII0015</td>\n",
       "      <td>跑车,手自一体 硬顶 400 SPORT 机械增压 四驱 捷豹JAGUAR F TYPE C...</td>\n",
       "      <td>NaN</td>\n",
       "      <td>捷豹</td>\n",
       "      <td>进口</td>\n",
       "      <td>捷豹</td>\n",
       "      <td>NaN</td>\n",
       "      <td>捷豹ftype</td>\n",
       "      <td>2017款</td>\n",
       "      <td>3.0t</td>\n",
       "      <td>...</td>\n",
       "      <td>NaN</td>\n",
       "      <td>NaN</td>\n",
       "      <td>NaN</td>\n",
       "      <td>跑车</td>\n",
       "      <td>跑车</td>\n",
       "      <td>NaN</td>\n",
       "      <td>NaN</td>\n",
       "      <td>amt</td>\n",
       "      <td>8 coupe t f 四驱 机械增压 sport 400 硬顶</td>\n",
       "      <td>283</td>\n",
       "    </tr>\n",
       "    <tr>\n",
       "      <th>1</th>\n",
       "      <td>DZAASI0040</td>\n",
       "      <td>轿车,双离合 宜乐版 涡轮增压 甲壳虫BEETLE 180TSI轿车 大众 进口 甲壳虫BE...</td>\n",
       "      <td>NaN</td>\n",
       "      <td>大众进口</td>\n",
       "      <td>NaN</td>\n",
       "      <td>NaN</td>\n",
       "      <td>180tsi</td>\n",
       "      <td>甲壳虫</td>\n",
       "      <td>2017款</td>\n",
       "      <td>NaN</td>\n",
       "      <td>...</td>\n",
       "      <td>NaN</td>\n",
       "      <td>NaN</td>\n",
       "      <td>NaN</td>\n",
       "      <td>NaN</td>\n",
       "      <td>轿车</td>\n",
       "      <td>NaN</td>\n",
       "      <td>NaN</td>\n",
       "      <td>dct</td>\n",
       "      <td>8 le et b 涡轮增压 宜乐</td>\n",
       "      <td>206</td>\n",
       "    </tr>\n",
       "    <tr>\n",
       "      <th>2</th>\n",
       "      <td>LKAALI0012</td>\n",
       "      <td>越野车,S CVT 锋行版 两驱 雷克萨斯LEXUS NX200越野车 雷克萨斯 进口 雷克...</td>\n",
       "      <td>NaN</td>\n",
       "      <td>雷克萨斯</td>\n",
       "      <td>进口</td>\n",
       "      <td>雷克萨斯</td>\n",
       "      <td>200</td>\n",
       "      <td>雷克萨斯nx</td>\n",
       "      <td>2017款</td>\n",
       "      <td>NaN</td>\n",
       "      <td>...</td>\n",
       "      <td>NaN</td>\n",
       "      <td>NaN</td>\n",
       "      <td>NaN</td>\n",
       "      <td>NaN</td>\n",
       "      <td>越野车</td>\n",
       "      <td>NaN</td>\n",
       "      <td>NaN</td>\n",
       "      <td>cvt</td>\n",
       "      <td>8 系 200 两驱 锋行 s</td>\n",
       "      <td>264</td>\n",
       "    </tr>\n",
       "    <tr>\n",
       "      <th>3</th>\n",
       "      <td>DZAASI0045</td>\n",
       "      <td>轿车,双离合 至乐版 涡轮增压 甲壳虫BEETLE 280TSI轿车 大众 进口 甲壳虫BE...</td>\n",
       "      <td>NaN</td>\n",
       "      <td>大众进口</td>\n",
       "      <td>NaN</td>\n",
       "      <td>NaN</td>\n",
       "      <td>280tsi</td>\n",
       "      <td>甲壳虫</td>\n",
       "      <td>2017款</td>\n",
       "      <td>NaN</td>\n",
       "      <td>...</td>\n",
       "      <td>NaN</td>\n",
       "      <td>NaN</td>\n",
       "      <td>NaN</td>\n",
       "      <td>NaN</td>\n",
       "      <td>轿车</td>\n",
       "      <td>NaN</td>\n",
       "      <td>NaN</td>\n",
       "      <td>dct</td>\n",
       "      <td>8 le et b 涡轮增压 至乐</td>\n",
       "      <td>206</td>\n",
       "    </tr>\n",
       "    <tr>\n",
       "      <th>4</th>\n",
       "      <td>GQBAXD0008</td>\n",
       "      <td>轿车,手自一体 精英版 国Ⅴ 传祺GAC7150H1A5轿车 广汽传祺 国产 传祺GS3 2...</td>\n",
       "      <td>GAC7150H1A5</td>\n",
       "      <td>广汽</td>\n",
       "      <td>NaN</td>\n",
       "      <td>传祺</td>\n",
       "      <td>NaN</td>\n",
       "      <td>传祺gs3</td>\n",
       "      <td>2017款</td>\n",
       "      <td>NaN</td>\n",
       "      <td>...</td>\n",
       "      <td>NaN</td>\n",
       "      <td>NaN</td>\n",
       "      <td>NaN</td>\n",
       "      <td>NaN</td>\n",
       "      <td>轿车</td>\n",
       "      <td>NaN</td>\n",
       "      <td>NaN</td>\n",
       "      <td>amt</td>\n",
       "      <td>8 国产 精英</td>\n",
       "      <td>300</td>\n",
       "    </tr>\n",
       "  </tbody>\n",
       "</table>\n",
       "<p>5 rows × 21 columns</p>\n",
       "</div>"
      ],
      "text/plain": [
       "        JY_ID                                     STD_MODEL_INFO         GGID  \\\n",
       "0  JBAAII0015  跑车,手自一体 硬顶 400 SPORT 机械增压 四驱 捷豹JAGUAR F TYPE C...          NaN   \n",
       "1  DZAASI0040  轿车,双离合 宜乐版 涡轮增压 甲壳虫BEETLE 180TSI轿车 大众 进口 甲壳虫BE...          NaN   \n",
       "2  LKAALI0012  越野车,S CVT 锋行版 两驱 雷克萨斯LEXUS NX200越野车 雷克萨斯 进口 雷克...          NaN   \n",
       "3  DZAASI0045  轿车,双离合 至乐版 涡轮增压 甲壳虫BEETLE 280TSI轿车 大众 进口 甲壳虫BE...          NaN   \n",
       "4  GQBAXD0008  轿车,手自一体 精英版 国Ⅴ 传祺GAC7150H1A5轿车 广汽传祺 国产 传祺GS3 2...  GAC7150H1A5   \n",
       "\n",
       "  MANUFACTURER IMPORTS BRAND_P KEYNUMBER CHINESE_CS   YEAR DISPLACEMENT  \\\n",
       "0           捷豹      进口      捷豹       NaN    捷豹ftype  2017款         3.0t   \n",
       "1         大众进口     NaN     NaN    180tsi        甲壳虫  2017款          NaN   \n",
       "2         雷克萨斯      进口    雷克萨斯       200     雷克萨斯nx  2017款          NaN   \n",
       "3         大众进口     NaN     NaN    280tsi        甲壳虫  2017款          NaN   \n",
       "4           广汽     NaN      传祺       NaN      传祺gs3  2017款          NaN   \n",
       "\n",
       "     ...    ENGINE_ARRANGE ENERGY_TYPE DOORS CAR_SIZE CAR_TYPE SEATS  GB1  \\\n",
       "0    ...               NaN         NaN   NaN       跑车       跑车   NaN  NaN   \n",
       "1    ...               NaN         NaN   NaN      NaN       轿车   NaN  NaN   \n",
       "2    ...               NaN         NaN   NaN      NaN      越野车   NaN  NaN   \n",
       "3    ...               NaN         NaN   NaN      NaN       轿车   NaN  NaN   \n",
       "4    ...               NaN         NaN   NaN      NaN       轿车   NaN  NaN   \n",
       "\n",
       "  GEARBOX                          OTR_INFO CP_SCO_DF  \n",
       "0     amt  8 coupe t f 四驱 机械增压 sport 400 硬顶       283  \n",
       "1     dct                 8 le et b 涡轮增压 宜乐       206  \n",
       "2     cvt                   8 系 200 两驱 锋行 s       264  \n",
       "3     dct                 8 le et b 涡轮增压 至乐       206  \n",
       "4     amt                           8 国产 精英       300  \n",
       "\n",
       "[5 rows x 21 columns]"
      ]
     },
     "execution_count": 33,
     "metadata": {},
     "output_type": "execute_result"
    }
   ],
   "source": [
    "cs_jy.head()"
   ]
  },
  {
   "cell_type": "code",
   "execution_count": 34,
   "metadata": {},
   "outputs": [
    {
     "data": {
      "text/plain": [
       "5挡    41\n",
       "6挡     7\n",
       "4挡     4\n",
       "2挡     2\n",
       "Name: GB1, dtype: int64"
      ]
     },
     "execution_count": 34,
     "metadata": {},
     "output_type": "execute_result"
    }
   ],
   "source": [
    "cs_jy['GB1'].value_counts()"
   ]
  },
  {
   "cell_type": "code",
   "execution_count": 23,
   "metadata": {},
   "outputs": [
    {
     "name": "stdout",
     "output_type": "stream",
     "text": [
      "61\n"
     ]
    },
    {
     "data": {
      "text/plain": [
       "['MODEL_UPDATE_DATE',\n",
       " 'GB1',\n",
       " 'MODEL_TYPE',\n",
       " 'MODEL_PINYIN_CODE',\n",
       " 'GGID',\n",
       " 'ENERGY_TYPE',\n",
       " 'VERSION',\n",
       " 'CAR_SIZE',\n",
       " 'SEATS',\n",
       " 'PART_UPDATE_TIME',\n",
       " 'MODEL_STANDARD_NAME',\n",
       " 'MODEL_CATE_ID',\n",
       " 'MODEL_VOUCH_TONNAGE',\n",
       " 'DISPLACEMENT',\n",
       " 'JY_ID',\n",
       " 'MODEL_IS_PIC',\n",
       " 'MODEL_BRAND',\n",
       " 'MODEL_IS_LOSS',\n",
       " 'MODEL_VOUCH_SEAT',\n",
       " 'MODEL_REMARK',\n",
       " 'MODEL_IS_DELETE',\n",
       " 'BRAND_P',\n",
       " 'MODEL_YEAR',\n",
       " 'CHINESE_CS',\n",
       " 'MODEL_CATE_NAME',\n",
       " 'CP_SCO_DF',\n",
       " 'TRAN_EDITION',\n",
       " 'MODEL_SUB_CLASS',\n",
       " 'MODEL_PRICE',\n",
       " 'IMPORTS',\n",
       " 'MODEL_IS_ENABLE',\n",
       " 'MODEL_VALUATION_TYPE',\n",
       " 'MODEL_CREATE_DATE',\n",
       " 'MODEL_ID',\n",
       " 'MODEL_VOLUME',\n",
       " 'MODEL_CURB_TONNAGE',\n",
       " 'HORSE_POWER',\n",
       " 'MODEL_SPECIAL_TYPE',\n",
       " 'ENGINE_ARRANGE',\n",
       " 'TYPE',\n",
       " 'MODEL_IS_INSURER',\n",
       " 'MODEL_SUB_SPECIAL_TYPE',\n",
       " 'STD_MODEL_INFO',\n",
       " 'MODEL_TOTAL_TONNAGE',\n",
       " 'OTR_INFO',\n",
       " 'CAR_TYPE',\n",
       " 'GEARBOX',\n",
       " 'DOORS',\n",
       " 'MODEL_PRICE_ANA',\n",
       " 'MODEL_FACTORY',\n",
       " 'KEYNUMBER',\n",
       " 'CB_ID',\n",
       " 'MODEL_STRUCT_TYPE',\n",
       " 'MODEL_TRIVIAL_NAME',\n",
       " 'MODEL_CLASS',\n",
       " 'MODEL_COUNTRY',\n",
       " 'MODEL_PRICE_TXA',\n",
       " 'MANUFACTURER',\n",
       " 'YEAR',\n",
       " 'MODEL_PART_COUNT',\n",
       " 'GUID']"
      ]
     },
     "execution_count": 23,
     "metadata": {},
     "output_type": "execute_result"
    }
   ],
   "source": [
    "col5=cs_jy.columns\n",
    "cols.extend(col5)\n",
    "cols=list(set(cols))\n",
    "print(len(cols))\n",
    "cols"
   ]
  },
  {
   "cell_type": "code",
   "execution_count": 24,
   "metadata": {
    "collapsed": true
   },
   "outputs": [],
   "source": [
    "cs_xs=pd.read_csv(path6)"
   ]
  },
  {
   "cell_type": "code",
   "execution_count": 25,
   "metadata": {
    "collapsed": true
   },
   "outputs": [],
   "source": [
    "cs_xs.dropna(how='all',axis=1,inplace=True)"
   ]
  },
  {
   "cell_type": "code",
   "execution_count": 26,
   "metadata": {},
   "outputs": [
    {
     "name": "stdout",
     "output_type": "stream",
     "text": [
      "<class 'pandas.core.frame.DataFrame'>\n",
      "RangeIndex: 31821 entries, 0 to 31820\n",
      "Data columns (total 21 columns):\n",
      "STD_MODEL_ID_XS    31821 non-null object\n",
      "STD_MODEL_INFO     31821 non-null object\n",
      "GGID               734 non-null object\n",
      "MANUFACTURER       31805 non-null object\n",
      "IMPORTS            4031 non-null object\n",
      "BRAND_P            31667 non-null object\n",
      "KEYNUMBER          4694 non-null object\n",
      "CHINESE_CS         31800 non-null object\n",
      "YEAR               31661 non-null object\n",
      "DISPLACEMENT       31068 non-null object\n",
      "HORSE_POWER        29853 non-null object\n",
      "ENGINE_ARRANGE     29839 non-null object\n",
      "ENERGY_TYPE        30382 non-null object\n",
      "DOORS              25033 non-null object\n",
      "CAR_SIZE           30292 non-null object\n",
      "CAR_TYPE           17488 non-null object\n",
      "SEATS              26845 non-null object\n",
      "GB1                28908 non-null object\n",
      "GEARBOX            31247 non-null object\n",
      "OTR_INFO           31426 non-null object\n",
      "CP_SCO_DF          31821 non-null int64\n",
      "dtypes: int64(1), object(20)\n",
      "memory usage: 5.1+ MB\n"
     ]
    }
   ],
   "source": [
    "cs_xs.info()"
   ]
  },
  {
   "cell_type": "code",
   "execution_count": 27,
   "metadata": {},
   "outputs": [
    {
     "name": "stdout",
     "output_type": "stream",
     "text": [
      "62\n"
     ]
    },
    {
     "data": {
      "text/plain": [
       "['MODEL_UPDATE_DATE',\n",
       " 'GB1',\n",
       " 'MODEL_TYPE',\n",
       " 'MODEL_PINYIN_CODE',\n",
       " 'GGID',\n",
       " 'ENERGY_TYPE',\n",
       " 'VERSION',\n",
       " 'CAR_SIZE',\n",
       " 'SEATS',\n",
       " 'PART_UPDATE_TIME',\n",
       " 'MODEL_STANDARD_NAME',\n",
       " 'MODEL_CATE_ID',\n",
       " 'MODEL_VOUCH_TONNAGE',\n",
       " 'DISPLACEMENT',\n",
       " 'JY_ID',\n",
       " 'MODEL_IS_PIC',\n",
       " 'GUID',\n",
       " 'MODEL_BRAND',\n",
       " 'MODEL_IS_LOSS',\n",
       " 'MODEL_VOUCH_SEAT',\n",
       " 'MODEL_REMARK',\n",
       " 'MODEL_IS_DELETE',\n",
       " 'BRAND_P',\n",
       " 'MODEL_YEAR',\n",
       " 'CHINESE_CS',\n",
       " 'MODEL_CATE_NAME',\n",
       " 'CP_SCO_DF',\n",
       " 'TRAN_EDITION',\n",
       " 'MODEL_SUB_CLASS',\n",
       " 'MODEL_PRICE',\n",
       " 'IMPORTS',\n",
       " 'MODEL_VALUATION_TYPE',\n",
       " 'MODEL_CREATE_DATE',\n",
       " 'MODEL_ID',\n",
       " 'MODEL_VOLUME',\n",
       " 'MODEL_CURB_TONNAGE',\n",
       " 'HORSE_POWER',\n",
       " 'MODEL_SPECIAL_TYPE',\n",
       " 'ENGINE_ARRANGE',\n",
       " 'TYPE',\n",
       " 'MODEL_IS_INSURER',\n",
       " 'STD_MODEL_ID_XS',\n",
       " 'MODEL_SUB_SPECIAL_TYPE',\n",
       " 'STD_MODEL_INFO',\n",
       " 'MODEL_TOTAL_TONNAGE',\n",
       " 'OTR_INFO',\n",
       " 'CAR_TYPE',\n",
       " 'GEARBOX',\n",
       " 'DOORS',\n",
       " 'MODEL_PRICE_ANA',\n",
       " 'MODEL_FACTORY',\n",
       " 'KEYNUMBER',\n",
       " 'CB_ID',\n",
       " 'MODEL_STRUCT_TYPE',\n",
       " 'MODEL_TRIVIAL_NAME',\n",
       " 'MODEL_CLASS',\n",
       " 'MODEL_COUNTRY',\n",
       " 'MODEL_PRICE_TXA',\n",
       " 'MANUFACTURER',\n",
       " 'YEAR',\n",
       " 'MODEL_PART_COUNT',\n",
       " 'MODEL_IS_ENABLE']"
      ]
     },
     "execution_count": 27,
     "metadata": {},
     "output_type": "execute_result"
    }
   ],
   "source": [
    "col6=cs_xs.columns\n",
    "cols.extend(col6)\n",
    "cols=list(set(cols))\n",
    "print(len(cols))\n",
    "cols"
   ]
  },
  {
   "cell_type": "code",
   "execution_count": 29,
   "metadata": {},
   "outputs": [],
   "source": [
    "cs_zs=pd.read_csv(path7)"
   ]
  },
  {
   "cell_type": "code",
   "execution_count": 30,
   "metadata": {
    "collapsed": true
   },
   "outputs": [],
   "source": [
    "cs_zs.dropna(how='all',axis=1,inplace=True)"
   ]
  },
  {
   "cell_type": "code",
   "execution_count": 31,
   "metadata": {},
   "outputs": [
    {
     "name": "stdout",
     "output_type": "stream",
     "text": [
      "<class 'pandas.core.frame.DataFrame'>\n",
      "RangeIndex: 25523 entries, 0 to 25522\n",
      "Data columns (total 19 columns):\n",
      "ZS_ID             25523 non-null object\n",
      "STD_MODEL_INFO    25523 non-null object\n",
      "MANUFACTURER      21365 non-null object\n",
      "IMPORTS           2230 non-null object\n",
      "BRAND_P           11223 non-null object\n",
      "KEYNUMBER         5343 non-null object\n",
      "CHINESE_CS        25259 non-null object\n",
      "YEAR              25523 non-null object\n",
      "DISPLACEMENT      25142 non-null object\n",
      "HORSE_POWER       399 non-null object\n",
      "ENGINE_ARRANGE    604 non-null object\n",
      "ENERGY_TYPE       1254 non-null object\n",
      "DOORS             120 non-null object\n",
      "CAR_SIZE          21 non-null object\n",
      "CAR_TYPE          1497 non-null object\n",
      "SEATS             1660 non-null object\n",
      "GEARBOX           25492 non-null object\n",
      "OTR_INFO          25369 non-null object\n",
      "CP_SCO_DF         25523 non-null int64\n",
      "dtypes: int64(1), object(18)\n",
      "memory usage: 3.7+ MB\n"
     ]
    }
   ],
   "source": [
    "cs_zs.info()"
   ]
  },
  {
   "cell_type": "code",
   "execution_count": 32,
   "metadata": {},
   "outputs": [
    {
     "name": "stdout",
     "output_type": "stream",
     "text": [
      "62\n"
     ]
    },
    {
     "data": {
      "text/plain": [
       "['MODEL_UPDATE_DATE',\n",
       " 'GB1',\n",
       " 'MODEL_TYPE',\n",
       " 'MODEL_PINYIN_CODE',\n",
       " 'GGID',\n",
       " 'ENERGY_TYPE',\n",
       " 'VERSION',\n",
       " 'CAR_SIZE',\n",
       " 'SEATS',\n",
       " 'PART_UPDATE_TIME',\n",
       " 'MODEL_STANDARD_NAME',\n",
       " 'MODEL_CATE_ID',\n",
       " 'MODEL_VOUCH_TONNAGE',\n",
       " 'DISPLACEMENT',\n",
       " 'JY_ID',\n",
       " 'MODEL_IS_PIC',\n",
       " 'MODEL_BRAND',\n",
       " 'MODEL_IS_LOSS',\n",
       " 'MODEL_VOUCH_SEAT',\n",
       " 'MODEL_REMARK',\n",
       " 'MODEL_IS_DELETE',\n",
       " 'BRAND_P',\n",
       " 'MODEL_YEAR',\n",
       " 'CHINESE_CS',\n",
       " 'MODEL_CATE_NAME',\n",
       " 'CP_SCO_DF',\n",
       " 'TRAN_EDITION',\n",
       " 'MODEL_SUB_CLASS',\n",
       " 'MODEL_PRICE',\n",
       " 'IMPORTS',\n",
       " 'MODEL_IS_ENABLE',\n",
       " 'MODEL_VALUATION_TYPE',\n",
       " 'MODEL_CREATE_DATE',\n",
       " 'MODEL_ID',\n",
       " 'MODEL_VOLUME',\n",
       " 'MODEL_CURB_TONNAGE',\n",
       " 'HORSE_POWER',\n",
       " 'MODEL_SPECIAL_TYPE',\n",
       " 'ENGINE_ARRANGE',\n",
       " 'TYPE',\n",
       " 'MODEL_IS_INSURER',\n",
       " 'STD_MODEL_ID_XS',\n",
       " 'MODEL_SUB_SPECIAL_TYPE',\n",
       " 'STD_MODEL_INFO',\n",
       " 'MODEL_TOTAL_TONNAGE',\n",
       " 'OTR_INFO',\n",
       " 'CAR_TYPE',\n",
       " 'GEARBOX',\n",
       " 'DOORS',\n",
       " 'MODEL_PRICE_ANA',\n",
       " 'MODEL_FACTORY',\n",
       " 'KEYNUMBER',\n",
       " 'CB_ID',\n",
       " 'MODEL_STRUCT_TYPE',\n",
       " 'MODEL_TRIVIAL_NAME',\n",
       " 'MODEL_CLASS',\n",
       " 'MODEL_COUNTRY',\n",
       " 'MODEL_PRICE_TXA',\n",
       " 'MANUFACTURER',\n",
       " 'YEAR',\n",
       " 'MODEL_PART_COUNT',\n",
       " 'GUID']"
      ]
     },
     "execution_count": 32,
     "metadata": {},
     "output_type": "execute_result"
    }
   ],
   "source": [
    "col7=cs_xs.columns\n",
    "cols.extend(col7)\n",
    "cols=list(set(cols))\n",
    "print(len(cols))\n",
    "cols"
   ]
  },
  {
   "cell_type": "code",
   "execution_count": null,
   "metadata": {
    "collapsed": true
   },
   "outputs": [],
   "source": []
  }
 ],
 "metadata": {
  "kernelspec": {
   "display_name": "Python 3",
   "language": "python",
   "name": "python3"
  },
  "language_info": {
   "codemirror_mode": {
    "name": "ipython",
    "version": 3
   },
   "file_extension": ".py",
   "mimetype": "text/x-python",
   "name": "python",
   "nbconvert_exporter": "python",
   "pygments_lexer": "ipython3",
   "version": "3.6.8"
  }
 },
 "nbformat": 4,
 "nbformat_minor": 2
}
